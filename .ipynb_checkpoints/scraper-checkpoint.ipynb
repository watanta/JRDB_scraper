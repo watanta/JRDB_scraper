{
 "cells": [
  {
   "cell_type": "code",
   "execution_count": 67,
   "metadata": {
    "collapsed": true
   },
   "outputs": [],
   "source": [
    "import pandas as pd\n",
    "import numpy as np\n",
    "import matplotlib.pyplot as plt\n",
    "import re"
   ]
  },
  {
   "cell_type": "code",
   "execution_count": 68,
   "metadata": {
    "collapsed": true
   },
   "outputs": [],
   "source": [
    "os.chdir(\"/ディレクトリまでのファイルパス\")\n",
    "filename = \n",
    "sed171015 = pd.read_csv(\"SED171015.txt\",encoding=\"shift-jis\",header=None)"
   ]
  },
  {
   "cell_type": "code",
   "execution_count": 69,
   "metadata": {},
   "outputs": [
    {
     "name": "stdout",
     "output_type": "stream",
     "text": [
      "(498,)\n"
     ]
    },
    {
     "data": {
      "text/plain": [
       "0    04173201011510362220171015ラテンリズム　　　　　　　　　　　　12...\n",
       "1    04173201021511006820171015カミノコ　　　　　　　　　　　　　　12...\n",
       "2    04173201031510168720171015モアイ　　　　　　　　　　　　　　　12...\n",
       "3    04173201041511008920171015ロータスクイーン　　　　　　　　　　12...\n",
       "4    04173201051510017220171015トキノカサドール　　　　　　　　　　12...\n",
       "dtype: object"
      ]
     },
     "execution_count": 69,
     "metadata": {},
     "output_type": "execute_result"
    }
   ],
   "source": [
    "sed171015 = pd.Series(sed171015.values.flatten())\n",
    "print(sed171015.shape)\n",
    "sed171015.head()"
   ]
  },
  {
   "cell_type": "code",
   "execution_count": 70,
   "metadata": {
    "collapsed": true
   },
   "outputs": [],
   "source": [
    "text = sed171015.loc[0]\n",
    "space = [10,27,46,51,53,55,57,60,63,66,70,72,74,100,103,108,111,113,118,122,129,136,143,146,150,154,158,162,166,170,174,178,182,186,190,192,194,197,199,201,203,205,211,217,223,229,236,240,244,248,273,276,283,290,297,300,303,306,309,313,317,323,329,333,337,339,341,343,351,359,365,371,374,377,379]\n",
    "\n"
   ]
  },
  {
   "cell_type": "code",
   "execution_count": 71,
   "metadata": {
    "collapsed": true
   },
   "outputs": [],
   "source": [
    "for i in space:\n",
    "    text = re.sub(r\"(.{\"+str(i)+\"})(?!$)\",r\"\\1,\",text,count=1)"
   ]
  },
  {
   "cell_type": "code",
   "execution_count": 72,
   "metadata": {
    "collapsed": true
   },
   "outputs": [],
   "source": [
    "def parse(text):\n",
    "    space = [10,27,46,51,53,55,57,60,63,66,70,72,74,100,103,108,111,113,118,122,129,136,143,146,150,154,158,162,166,170,174,178,182,186,190,192,194,197,199,201,203,205,211,217,223,229,236,240,244,248,273,276,283,290,297,300,303,306,309,313,317,323,329,333,337,339,341,343,351,359,365,371,374,377,379]\n",
    "    for i in space:\n",
    "        text = re.sub(r\"(.{\"+str(i)+\"})(?!$)\",r\"\\1;\",text,count=1)\n",
    "    return text"
   ]
  },
  {
   "cell_type": "code",
   "execution_count": 73,
   "metadata": {},
   "outputs": [
    {
     "name": "stdout",
     "output_type": "stream",
     "text": [
      "(498,)\n"
     ]
    },
    {
     "data": {
      "text/plain": [
       "0    0417320101;1510362220171015;ラテンリズム　　　　　　　　　　　　...\n",
       "1    0417320102;1511006820171015;カミノコ　　　　　　　　　　　　　　...\n",
       "2    0417320103;1510168720171015;モアイ　　　　　　　　　　　　　　　...\n",
       "3    0417320104;1511008920171015;ロータスクイーン　　　　　　　　　　...\n",
       "4    0417320105;1510017220171015;トキノカサドール　　　　　　　　　　...\n",
       "dtype: object"
      ]
     },
     "execution_count": 73,
     "metadata": {},
     "output_type": "execute_result"
    }
   ],
   "source": [
    "csv = sed171015.apply(lambda x: parse(x))\n",
    "print(csv.shape)\n",
    "csv.head()"
   ]
  },
  {
   "cell_type": "code",
   "execution_count": 74,
   "metadata": {
    "collapsed": true
   },
   "outputs": [],
   "source": [
    "csv.to_csv(\"test.csv\",header=None,index=None) "
   ]
  },
  {
   "cell_type": "code",
   "execution_count": 75,
   "metadata": {
    "collapsed": true
   },
   "outputs": [],
   "source": [
    "dataframe = pd.read_csv(\"test.csv\",header=None)"
   ]
  },
  {
   "cell_type": "code",
   "execution_count": 76,
   "metadata": {},
   "outputs": [
    {
     "name": "stdout",
     "output_type": "stream",
     "text": [
      "(498, 1)\n"
     ]
    },
    {
     "data": {
      "text/html": [
       "<div>\n",
       "<style>\n",
       "    .dataframe thead tr:only-child th {\n",
       "        text-align: right;\n",
       "    }\n",
       "\n",
       "    .dataframe thead th {\n",
       "        text-align: left;\n",
       "    }\n",
       "\n",
       "    .dataframe tbody tr th {\n",
       "        vertical-align: top;\n",
       "    }\n",
       "</style>\n",
       "<table border=\"1\" class=\"dataframe\">\n",
       "  <thead>\n",
       "    <tr style=\"text-align: right;\">\n",
       "      <th></th>\n",
       "      <th>0</th>\n",
       "    </tr>\n",
       "  </thead>\n",
       "  <tbody>\n",
       "    <tr>\n",
       "      <th>0</th>\n",
       "      <td>0417320101;1510362220171015;ラテンリズム　　　　　　　　　　　　...</td>\n",
       "    </tr>\n",
       "    <tr>\n",
       "      <th>1</th>\n",
       "      <td>0417320102;1511006820171015;カミノコ　　　　　　　　　　　　　　...</td>\n",
       "    </tr>\n",
       "    <tr>\n",
       "      <th>2</th>\n",
       "      <td>0417320103;1510168720171015;モアイ　　　　　　　　　　　　　　　...</td>\n",
       "    </tr>\n",
       "    <tr>\n",
       "      <th>3</th>\n",
       "      <td>0417320104;1511008920171015;ロータスクイーン　　　　　　　　　　...</td>\n",
       "    </tr>\n",
       "    <tr>\n",
       "      <th>4</th>\n",
       "      <td>0417320105;1510017220171015;トキノカサドール　　　　　　　　　　...</td>\n",
       "    </tr>\n",
       "  </tbody>\n",
       "</table>\n",
       "</div>"
      ],
      "text/plain": [
       "                                                   0\n",
       "0  0417320101;1510362220171015;ラテンリズム　　　　　　　　　　　　...\n",
       "1  0417320102;1511006820171015;カミノコ　　　　　　　　　　　　　　...\n",
       "2  0417320103;1510168720171015;モアイ　　　　　　　　　　　　　　　...\n",
       "3  0417320104;1511008920171015;ロータスクイーン　　　　　　　　　　...\n",
       "4  0417320105;1510017220171015;トキノカサドール　　　　　　　　　　..."
      ]
     },
     "execution_count": 76,
     "metadata": {},
     "output_type": "execute_result"
    }
   ],
   "source": [
    "print(dataframe.shape)\n",
    "dataframe.head()"
   ]
  },
  {
   "cell_type": "code",
   "execution_count": 79,
   "metadata": {},
   "outputs": [
    {
     "data": {
      "text/plain": [
       "['0417320101',\n",
       " '1510362220171015',\n",
       " 'ラテンリズム\\u3000\\u3000\\u3000\\u3000\\u3000\\u3000\\u3000\\u3000\\u3000\\u3000\\u3000\\u3000',\n",
       " '1200',\n",
       " '2',\n",
       " '2',\n",
       " '1',\n",
       " '20',\n",
       " '11',\n",
       " 'A3',\n",
       " '102',\n",
       " '3',\n",
       " ' ',\n",
       " '\\u3000\\u3000\\u3000\\u3000\\u3000\\u3000\\u3000\\u3000\\u3000\\u3000\\u3000\\u3000\\u3000\\u3000\\u3000\\u3000\\u3000\\u3000\\u3000\\u3000\\u3000\\u3000\\u3000\\u3000\\u3000',\n",
       " '15',\n",
       " '\\u3000\\u3000\\u3000\\u3000',\n",
       " '09',\n",
       " '0',\n",
       " '1153',\n",
       " '540',\n",
       " '杉原誠人\\u3000\\u3000',\n",
       " '松山将樹\\u3000\\u3000',\n",
       " ' 202.3',\n",
       " '12',\n",
       " ' 11',\n",
       " '  7',\n",
       " '-14',\n",
       " '  4',\n",
       " '   ',\n",
       " '   ',\n",
       " '   ',\n",
       " '   ',\n",
       " '   ',\n",
       " '   ',\n",
       " '   ',\n",
       " '3',\n",
       " '3',\n",
       " '38',\n",
       " '2',\n",
       " '7',\n",
       " 'S',\n",
       " 'S',\n",
       " '-31.3',\n",
       " '-17.6',\n",
       " '-29.0',\n",
       " ' -9.0',\n",
       " 'ラフィングマ',\n",
       " '021',\n",
       " '372',\n",
       " '381',\n",
       " '                        ',\n",
       " '  ',\n",
       " '  30.1',\n",
       " '  87.3',\n",
       " '  17.9',\n",
       " '00',\n",
       " '14',\n",
       " '14',\n",
       " '14',\n",
       " '-20',\n",
       " '-20',\n",
       " '10555',\n",
       " '10410',\n",
       " '434',\n",
       " '+ 2',\n",
       " '2',\n",
       " ' ',\n",
       " '4',\n",
       " '       ',\n",
       " '       ',\n",
       " '    0',\n",
       " '    0',\n",
       " '33',\n",
       " '22',\n",
       " '1',\n",
       " '    ']"
      ]
     },
     "execution_count": 79,
     "metadata": {},
     "output_type": "execute_result"
    }
   ],
   "source": [
    "dataframe.loc[0,0].split(\";\")"
   ]
  },
  {
   "cell_type": "code",
   "execution_count": null,
   "metadata": {
    "collapsed": true
   },
   "outputs": [],
   "source": []
  }
 ],
 "metadata": {
  "kernelspec": {
   "display_name": "Python 3",
   "language": "python",
   "name": "python3"
  },
  "language_info": {
   "codemirror_mode": {
    "name": "ipython",
    "version": 3
   },
   "file_extension": ".py",
   "mimetype": "text/x-python",
   "name": "python",
   "nbconvert_exporter": "python",
   "pygments_lexer": "ipython3",
   "version": "3.6.1"
  }
 },
 "nbformat": 4,
 "nbformat_minor": 2
}
